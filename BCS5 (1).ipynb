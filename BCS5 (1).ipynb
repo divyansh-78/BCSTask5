{
  "nbformat": 4,
  "nbformat_minor": 0,
  "metadata": {
    "colab": {
      "provenance": []
    },
    "kernelspec": {
      "name": "python3",
      "display_name": "Python 3"
    },
    "language_info": {
      "name": "python"
    }
  },
  "cells": [
    {
      "cell_type": "code",
      "execution_count": 1,
      "metadata": {
        "colab": {
          "base_uri": "https://localhost:8080/"
        },
        "id": "HwJJMTxDKN3l",
        "outputId": "db3908de-5d04-4a63-a24a-3a19411b2457"
      },
      "outputs": [
        {
          "output_type": "stream",
          "name": "stdout",
          "text": [
            "   Coffee_Tea  Books_Movies  Outdoor_Indoor  Sweet_Savory  Morning_Night  \\\n",
            "0           1             0               1             1              1   \n",
            "1           0             1               0             0              0   \n",
            "2           1             0               1             1              0   \n",
            "3           0             0               0             0              0   \n",
            "4           0             1               1             1              1   \n",
            "\n",
            "   Favorite_Cake  \n",
            "0              1  \n",
            "1              0  \n",
            "2              1  \n",
            "3              0  \n",
            "4              1  \n",
            "Total number of rows: 400\n"
          ]
        }
      ],
      "source": [
        "import pandas as pd\n",
        "import random\n",
        "\n",
        "# Original data\n",
        "data = {\n",
        "    'Coffee_Tea': [1, 0, 1, 0, 1, 0, 1, 0, 1, 0],\n",
        "    'Books_Movies': [1, 1, 0, 0, 1, 1, 0, 0, 1, 0],\n",
        "    'Outdoor_Indoor': [1, 0, 1, 0, 1, 0, 1, 0, 1, 0],\n",
        "    'Sweet_Savory': [1, 0, 1, 0, 1, 0, 1, 0, 1, 0],\n",
        "    'Morning_Night': [1, 0, 1, 0, 1, 0, 1, 0, 1, 0],\n",
        "    'Favorite_Cake': [1, 0, 1, 0, 1, 0, 1, 0, 1, 0]\n",
        "}\n",
        "\n",
        "df = pd.DataFrame(data)\n",
        "print(expanded_df.head())\n",
        "print(f\"Total number of rows: {len(expanded_df)}\")\n"
      ]
    },
    {
      "cell_type": "code",
      "source": [
        "import numpy as np\n",
        "from sklearn.linear_model import LinearRegression\n",
        "from sklearn.model_selection import train_test_split\n",
        "from sklearn.preprocessing import StandardScaler\n",
        "from sklearn.metrics import accuracy_score\n",
        "data = {\n",
        "    'Coffee_Tea': [1, 0, 1, 0, 1, 0, 1, 0, 1, 0],\n",
        "    'Books_Movies': [1, 1, 0, 0, 1, 1, 0, 0, 1, 0],\n",
        "    'Outdoor_Indoor': [1, 0, 1, 0, 1, 0, 1, 0, 1, 0],\n",
        "    'Sweet_Savory': [1, 0, 1, 0, 1, 0, 1, 0, 1, 0],\n",
        "    'Morning_Night': [1, 0, 1, 0, 1, 0, 1, 0, 1, 0],\n",
        "    'Favorite_Cake': [1, 0, 1, 0, 1, 0, 1, 0, 1, 0]\n",
        "}\n",
        "\n",
        "df = pd.DataFrame(data)\n",
        "def create_variation(row):\n",
        "    return [row[col] if random.random() > 0.15 else 1 - row[col] for col in df.columns]\n",
        "expanded_data = []\n",
        "for _ in range(400 // len(df) + 1):\n",
        "    for _, row in df.iterrows():\n",
        "        expanded_data.append(create_variation(row))\n",
        "expanded_data = expanded_data[:400]\n",
        "expanded_df = pd.DataFrame(expanded_data, columns=df.columns)\n",
        "X = expanded_df.drop('Favorite_Cake', axis=1)\n",
        "y = expanded_df['Favorite_Cake']\n",
        "X_train, X_test, y_train, y_test = train_test_split(X, y, test_size=0.2, random_state=42)\n",
        "scaler = StandardScaler()\n",
        "X_train_scaled = scaler.fit_transform(X_train)\n",
        "X_test_scaled = scaler.transform(X_test)\n",
        "model = LinearRegression()\n",
        "model.fit(X_train_scaled, y_train)\n",
        "y_pred = model.predict(X_test_scaled)\n",
        "y_pred_binary = [1 if pred > 0.5 else 0 for pred in y_pred]\n",
        "results = pd.DataFrame({'Actual': y_test, 'Predicted': y_pred_binary})\n",
        "print(results)\n",
        "accuracy = accuracy_score(y_test, y_pred_binary)\n",
        "print(f'Accuracy: {accuracy:.2f}')\n"
      ],
      "metadata": {
        "colab": {
          "base_uri": "https://localhost:8080/"
        },
        "id": "KgntK_CKLI3m",
        "outputId": "0a7cc71f-2b15-44d6-d6b4-a3b0ba2c87ba"
      },
      "execution_count": 5,
      "outputs": [
        {
          "output_type": "stream",
          "name": "stdout",
          "text": [
            "     Actual  Predicted\n",
            "209       0          0\n",
            "280       1          1\n",
            "33        1          0\n",
            "210       1          1\n",
            "93        0          0\n",
            "..      ...        ...\n",
            "246       1          1\n",
            "227       0          0\n",
            "369       0          0\n",
            "176       1          1\n",
            "289       0          0\n",
            "\n",
            "[80 rows x 2 columns]\n",
            "Accuracy: 0.88\n"
          ]
        }
      ]
    }
  ]
}